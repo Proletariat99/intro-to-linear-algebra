{
 "cells": [
  {
   "cell_type": "markdown",
   "metadata": {},
   "source": [
    "# YOU WILL NEED TO IMPORT THE LIBRARIES YOU NEED"
   ]
  },
  {
   "cell_type": "code",
   "execution_count": 1,
   "metadata": {
    "collapsed": true
   },
   "outputs": [],
   "source": [
    "import matplotlib.pyplot as plt\n",
    "import numpy as np\n",
    "import seaborn as sns\n",
    "%matplotlib inline\n",
    "\n",
    "def initialize_2d_plot(x_min=-1, x_max=8, y_min=-1, y_max=8, figsize=(6,6)):\n",
    "    \"\"\"Default values: x_min=-1, x_max=8, y_min=-1, y_max=8\"\"\"\n",
    "    fig = plt.figure(figsize=figsize)\n",
    "    plt.xlim([x_min,x_max])\n",
    "    plt.ylim([y_min,y_max])\n",
    "    plt.axhline(0, color='black')\n",
    "    plt.axvline(0, color='black')"
   ]
  },
  {
   "cell_type": "markdown",
   "metadata": {},
   "source": [
    "## Pythonic Representation"
   ]
  },
  {
   "cell_type": "markdown",
   "metadata": {},
   "source": [
    "Represent these functions using Python and plot them using `matplotlib.pyplot`.\n",
    "\n",
    "- $y=-4x-5$\n",
    "- $y=2x+16$\n",
    "- $y=x^2-3x+2$\n",
    "- $4x-5y=10$"
   ]
  },
  {
   "cell_type": "code",
   "execution_count": 6,
   "metadata": {},
   "outputs": [
    {
     "data": {
      "text/plain": [
       "[<matplotlib.lines.Line2D at 0x7f7d3e809d30>]"
      ]
     },
     "execution_count": 6,
     "metadata": {},
     "output_type": "execute_result"
    },
    {
     "data": {
      "image/png": "[encoded data removed]",
      "text/plain": [
       "<matplotlib.figure.Figure at 0x7f7d3e89e9b0>"
      ]
     },
     "metadata": {},
     "output_type": "display_data"
    }
   ],
   "source": [
    "f1 = lambda x: -4*x - 5\n",
    "f2 = lambda x: 2*x + 16\n",
    "f3 = lambda x: x**2 - 3*x + 2\n",
    "f4 = lambda x: 4*x/5 - 2\n",
    "xs = np.linspace(-10,10,100)\n",
    "y1s = f1(xs)\n",
    "y2s = f2(xs)\n",
    "y3s = f3(xs)\n",
    "y4s = f4(xs)\n",
    "fig = initialize_2d_plot(-10,10,-10,10)\n",
    "plt.plot(xs, y1s)\n",
    "plt.plot(xs, y2s)\n",
    "plt.plot(xs, y3s)\n",
    "plt.plot(xs, y4s)"
   ]
  },
  {
   "cell_type": "markdown",
   "metadata": {},
   "source": [
    "## Systems of Equations"
   ]
  },
  {
   "cell_type": "markdown",
   "metadata": {},
   "source": [
    "Plot the solution to these systems of equations:\n",
    "\n",
    "1. \n",
    "   - $y=-4x-5$\n",
    "   - $y=2x+16$\n",
    "2. \n",
    "   - $y=2x+16$\n",
    "   - $4x-5y=10$\n",
    "3. \n",
    "   - $y=-4x-5$\n",
    "   - $4x-5y=10$"
   ]
  },
  {
   "cell_type": "code",
   "execution_count": null,
   "metadata": {
    "collapsed": true
   },
   "outputs": [],
   "source": []
  },
  {
   "cell_type": "markdown",
   "metadata": {},
   "source": [
    "### Linear Algebra Practice"
   ]
  },
  {
   "cell_type": "code",
   "execution_count": 7,
   "metadata": {
    "collapsed": true
   },
   "outputs": [],
   "source": [
    "def draw_vector(np_array, tail=np.array([0,0]), kwargs=None):\n",
    "    \"\"\"Pass a vector of dimension 2 and a figure.\n",
    "       Optionally, specify a start point. Defaults to the origin.\n",
    "       \"\"\"\n",
    "    u_1 = np_array[0]\n",
    "    u_2 = np_array[1]\n",
    "    tail_1 = tail[0]\n",
    "    tail_2 = tail[1]\n",
    "    if kwargs:\n",
    "        plt.arrow(tail_1,tail_2,u_1,u_2, **kwargs, head_width=0.25, head_length=0.25)\n",
    "    else:\n",
    "        plt.arrow(tail_1,tail_2,u_1,u_2, head_width=0.25, head_length=0.25)"
   ]
  },
  {
   "cell_type": "markdown",
   "metadata": {},
   "source": [
    "### Define the vector `a` to have the values $(1,2)$"
   ]
  },
  {
   "cell_type": "code",
   "execution_count": 8,
   "metadata": {
    "collapsed": true
   },
   "outputs": [],
   "source": [
    "a = np.array((1,2))"
   ]
  },
  {
   "cell_type": "markdown",
   "metadata": {},
   "source": [
    "### Define `b` to be the vector $(3,.5)$"
   ]
  },
  {
   "cell_type": "code",
   "execution_count": 9,
   "metadata": {
    "collapsed": true
   },
   "outputs": [],
   "source": [
    "b = np.array((3,.5))"
   ]
  },
  {
   "cell_type": "markdown",
   "metadata": {},
   "source": [
    "### Find the data type, the shape, the dimension, and the size of `a` via its attributes"
   ]
  },
  {
   "cell_type": "code",
   "execution_count": 14,
   "metadata": {},
   "outputs": [
    {
     "name": "stdout",
     "output_type": "stream",
     "text": [
      "<class 'numpy.ndarray'>\n",
      "(2,)\n",
      "2\n"
     ]
    }
   ],
   "source": [
    "print(type(a))\n",
    "print(np.shape(a))\n",
    "print(np.size(a))"
   ]
  },
  {
   "cell_type": "markdown",
   "metadata": {},
   "source": [
    "## Define these vectors\n",
    "\n",
    "$$c = (\\pi,e)$$\n",
    "$$d=(-11,1)$$\n",
    "$$e=\\left(\\frac{1}{4},\\frac{7}{9}\\right)$$\n",
    "$$f=(-4,4)$$"
   ]
  },
  {
   "cell_type": "code",
   "execution_count": 17,
   "metadata": {},
   "outputs": [],
   "source": [
    "import math\n",
    "c = np.array((math.pi, math.e))\n",
    "d = np.array((-11, 1))\n",
    "e = np.array((1/4, 7/9))\n",
    "f = np.array((-4, 4))"
   ]
  },
  {
   "cell_type": "markdown",
   "metadata": {},
   "source": [
    "## `initialize_2d_plot` \n",
    "\n",
    "The file `helper.py` has a function called `initiliaze_2d_plot` that will:\n",
    "- draw axes\n",
    "- specify the limits of the plot\n",
    "\n",
    "The file also has a function called `draw_vector`. It takes a 2d-numpy array, and two optional arguments:\n",
    "\n",
    "- a `tail` so that the vector can begin from a location other than the origin\n",
    "- `kwargs` so that attributes of the line can be specified"
   ]
  },
  {
   "cell_type": "code",
   "execution_count": 15,
   "metadata": {
    "collapsed": true
   },
   "outputs": [],
   "source": [
    "from helper import initialize_2d_plot, draw_vector"
   ]
  },
  {
   "cell_type": "markdown",
   "metadata": {},
   "source": [
    "### Run this example"
   ]
  },
  {
   "cell_type": "code",
   "execution_count": 18,
   "metadata": {},
   "outputs": [
    {
     "data": {
      "image/png": "[encoded data removed]",
      "text/plain": [
       "<matplotlib.figure.Figure at 0x7f7d3e7f1828>"
      ]
     },
     "metadata": {},
     "output_type": "display_data"
    }
   ],
   "source": [
    "initialize_2d_plot()\n",
    "draw_vector(b, kwargs={'linewidth': 5, 'color':'red'})\n",
    "draw_vector(a)\n",
    "draw_vector(a, tail=a)\n",
    "draw_vector(a, tail=a+a)"
   ]
  },
  {
   "cell_type": "markdown",
   "metadata": {},
   "source": [
    "### Calculate and draw a vector addition\n",
    "\n",
    "Find the result of the vector addition:\n",
    "\n",
    "$$\\mathbf{d}=\\mathbf{a}+\\mathbf{b}+\\mathbf{a}$$"
   ]
  },
  {
   "cell_type": "code",
   "execution_count": 24,
   "metadata": {},
   "outputs": [
    {
     "data": {
      "image/png": "[encoded data removed]",
      "text/plain": [
       "<matplotlib.figure.Figure at 0x7f7d3e52ff98>"
      ]
     },
     "metadata": {},
     "output_type": "display_data"
    }
   ],
   "source": [
    "fig = initialize_2d_plot(-1,7,-1,6)\n",
    "d = a + b + a\n",
    "draw_vector(d, kwargs=({'linewidth':5, 'color':'red'}))\n",
    "draw_vector(a)\n",
    "draw_vector(b, tail=a)\n",
    "draw_vector(a, tail=a+b)"
   ]
  },
  {
   "cell_type": "markdown",
   "metadata": {},
   "source": [
    "1. Plot `d` with a `linewidth` of 5 and a color of `red`.\n",
    "1. Plot `a` with no additional arguments.\n",
    "1. Plot `b` with `tail=a`.\n",
    "1. Plot `a` with `tail=a+b`."
   ]
  },
  {
   "cell_type": "markdown",
   "metadata": {},
   "source": [
    "### Find and plot the results of \n",
    "\n",
    "$$\\mathbf{e}=3\\mathbf{b}$$"
   ]
  },
  {
   "cell_type": "code",
   "execution_count": 26,
   "metadata": {},
   "outputs": [
    {
     "data": {
      "image/png": "[encoded data removed]",
      "text/plain": [
       "<matplotlib.figure.Figure at 0x7f7d3e75e400>"
      ]
     },
     "metadata": {},
     "output_type": "display_data"
    }
   ],
   "source": [
    "initialize_2d_plot(x_max=10, y_max=2)\n",
    "e = 3*b\n",
    "draw_vector(e)"
   ]
  },
  {
   "cell_type": "markdown",
   "metadata": {},
   "source": [
    "You may need to adjust the `x_max` and `y_max` when you `initialize_2d_plot`, e.g.\n",
    "\n",
    "       initialize_2d_plot(x_max=10, y_max=10)"
   ]
  },
  {
   "cell_type": "code",
   "execution_count": null,
   "metadata": {
    "collapsed": true
   },
   "outputs": [],
   "source": []
  },
  {
   "cell_type": "markdown",
   "metadata": {},
   "source": [
    "### Find the results of and plot this linear combination \n",
    "\n",
    "$$\\mathbf{f}=2\\mathbf{a}+3\\mathbf{b}$$"
   ]
  },
  {
   "cell_type": "code",
   "execution_count": 31,
   "metadata": {},
   "outputs": [
    {
     "data": {
      "image/png": "[encoded data removed]",
      "text/plain": [
       "<matplotlib.figure.Figure at 0x7f7d3e418128>"
      ]
     },
     "metadata": {},
     "output_type": "display_data"
    }
   ],
   "source": [
    "fig = initialize_2d_plot(-1,12,-1,6)\n",
    "f = 2*a + 3*b\n",
    "draw_vector(f, kwargs=({'linewidth':5, 'color':'red'}))\n",
    "draw_vector(a)\n",
    "draw_vector(a, tail=a)\n",
    "draw_vector(b, tail=2*a)\n",
    "draw_vector(b, tail=2*a+b)\n",
    "draw_vector(b, tail=2*a+2*b)"
   ]
  },
  {
   "cell_type": "markdown",
   "metadata": {},
   "source": [
    "### Excuse me, sir ... a linear combination?!?\n",
    "\n",
    "<img width=\"400px\" src=\"https://cdn.arstechnica.net/wp-content/uploads/2014/08/aliens2-hudsonlol.jpg\">"
   ]
  },
  {
   "cell_type": "markdown",
   "metadata": {},
   "source": [
    "Yes, a [linear combination](https://en.wikipedia.org/wiki/Linear_combination).\n",
    "\n",
    "An operation using just scalar multiplication and vector addition.\n",
    "\n",
    "$$\\mathbf{u}=a\\cdot\\mathbf{v}+b\\cdot\\mathbf{w}$$"
   ]
  },
  {
   "cell_type": "markdown",
   "metadata": {},
   "source": [
    "### Use `numpy` to find the dot products below\n",
    "\n",
    "- $\\mathbf{a}^T\\mathbf{b}$\n",
    "- $\\mathbf{b}^T\\mathbf{d}$\n",
    "- $\\mathbf{c}^T\\mathbf{b}$\n",
    "- $\\mathbf{d}^T\\mathbf{b}$\n",
    "- $\\mathbf{e}^T\\mathbf{a}$\n",
    "- $\\mathbf{f}^T\\mathbf{d}$\n",
    "- $\\mathbf{a}^T\\mathbf{c}$\n"
   ]
  },
  {
   "cell_type": "code",
   "execution_count": 32,
   "metadata": {},
   "outputs": [
    {
     "name": "stdout",
     "output_type": "stream",
     "text": [
      "4.0\n",
      "17.25\n",
      "10.783918875\n",
      "17.25\n",
      "12.0\n",
      "79.75\n",
      "8.57815631051\n"
     ]
    }
   ],
   "source": [
    "print(a.T.dot(b))\n",
    "print(b.T.dot(d))\n",
    "print(c.T.dot(b))\n",
    "print(d.T.dot(b))\n",
    "print(e.T.dot(a))\n",
    "print(f.T.dot(d))\n",
    "print(a.T.dot(c))"
   ]
  },
  {
   "cell_type": "markdown",
   "metadata": {},
   "source": [
    "### You can use the dot product to find the magnitude of a vector\n",
    "\n",
    "![](https://media.tenor.com/images/062ae5d02dcb35364b15b35f72fd96eb/tenor.gif)"
   ]
  },
  {
   "cell_type": "markdown",
   "metadata": {},
   "source": [
    "The magnitude of a vector is given by \n",
    "\n",
    "$$\\sqrt{\\mathbf{v}^T\\mathbf{v}}$$"
   ]
  },
  {
   "cell_type": "markdown",
   "metadata": {},
   "source": [
    "Write a function in Python to perform this operation:"
   ]
  },
  {
   "cell_type": "code",
   "execution_count": 33,
   "metadata": {
    "collapsed": true
   },
   "outputs": [],
   "source": [
    "def vector_magnitude(vect):\n",
    "    return (vect.T.dot(vect)) ** .5"
   ]
  },
  {
   "cell_type": "markdown",
   "metadata": {},
   "source": [
    "### Find the magnitude of these vectors\n",
    "\n",
    "Using your function.\n",
    "\n",
    "- $\\mathbf{a}$\n",
    "- $\\mathbf{b}$\n",
    "- $\\mathbf{c}$\n",
    "- $\\mathbf{d}$\n",
    "- $\\mathbf{e}$\n",
    "- $\\mathbf{f}$"
   ]
  },
  {
   "cell_type": "code",
   "execution_count": 35,
   "metadata": {},
   "outputs": [
    {
     "name": "stdout",
     "output_type": "stream",
     "text": [
      "2.2360679775\n",
      "3.04138126515\n",
      "4.15435440231\n",
      "6.72681202354\n",
      "9.12414379545\n",
      "12.2983738762\n"
     ]
    }
   ],
   "source": [
    "print(vector_magnitude(a))\n",
    "print(vector_magnitude(b))\n",
    "print(vector_magnitude(c))\n",
    "print(vector_magnitude(d))\n",
    "print(vector_magnitude(e))\n",
    "print(vector_magnitude(f))"
   ]
  },
  {
   "cell_type": "markdown",
   "metadata": {},
   "source": [
    "### You can use `numpy.linalg.norm` to find the magnitude too"
   ]
  },
  {
   "cell_type": "markdown",
   "metadata": {},
   "source": [
    "### Find the magnitude of these vectors\n",
    "\n",
    "Using your `numpy.linalg.norm`.\n",
    "\n",
    "- $\\mathbf{a}$\n",
    "- $\\mathbf{b}$\n",
    "- $\\mathbf{c}$\n",
    "- $\\mathbf{d}$\n",
    "- $\\mathbf{e}$\n",
    "- $\\mathbf{f}$"
   ]
  },
  {
   "cell_type": "markdown",
   "metadata": {},
   "source": [
    "### Write at least one assert statement to prove that the two methods are equivalent"
   ]
  },
  {
   "cell_type": "code",
   "execution_count": 38,
   "metadata": {},
   "outputs": [],
   "source": [
    "assert vector_magnitude(a) == np.linalg.norm(a)"
   ]
  },
  {
   "cell_type": "markdown",
   "metadata": {},
   "source": [
    "## Solving Systems"
   ]
  },
  {
   "cell_type": "markdown",
   "metadata": {},
   "source": [
    "Use linear algebra to find the solution to these systems of equations. Plot the answers that you find along with the systems.\n",
    "\n",
    "1. \n",
    "   - $y=-4x-5$\n",
    "   - $y=2x+16$\n",
    "2. \n",
    "   - $y=2x+16$\n",
    "   - $4x-5y=10$\n",
    "3. \n",
    "   - $y=-4x-5$\n",
    "   - $4x-5y=10$"
   ]
  },
  {
   "cell_type": "code",
   "execution_count": 40,
   "metadata": {},
   "outputs": [
    {
     "name": "stdout",
     "output_type": "stream",
     "text": [
      "[-3.5  9. ]\n"
     ]
    }
   ],
   "source": [
    "inverse = np.linalg.inv\n",
    "A = np.array([(4, 1), (-2, 1)])\n",
    "b = np.array((-5, 16))\n",
    "print(inverse(A).dot(b))"
   ]
  },
  {
   "cell_type": "code",
   "execution_count": 41,
   "metadata": {},
   "outputs": [
    {
     "data": {
      "text/plain": [
       "[<matplotlib.lines.Line2D at 0x7f7d3e339898>]"
      ]
     },
     "execution_count": 41,
     "metadata": {},
     "output_type": "execute_result"
    },
    {
     "data": {
      "image/png": "[encoded data removed]",
      "text/plain": [
       "<matplotlib.figure.Figure at 0x7f7d3e397908>"
      ]
     },
     "metadata": {},
     "output_type": "display_data"
    }
   ],
   "source": [
    "f1 = lambda x: -4*x - 5\n",
    "f2 = lambda x: 2*x + 16\n",
    "xs = np.linspace(-10,10,100)\n",
    "y1s = f1(xs)\n",
    "y2s = f2(xs)\n",
    "fig = initialize_2d_plot(-10,10,-10,10)\n",
    "plt.plot(xs, y1s)\n",
    "plt.plot(xs, y2s)\n",
    "plt.plot(-3.5,9,'o',c='red', markersize=10)"
   ]
  },
  {
   "cell_type": "code",
   "execution_count": 42,
   "metadata": {},
   "outputs": [
    {
     "name": "stdout",
     "output_type": "stream",
     "text": [
      "[-15. -14.]\n"
     ]
    }
   ],
   "source": [
    "inverse = np.linalg.inv\n",
    "A = np.array([(-2, 1), (4, -5)])\n",
    "b = np.array((16, 10))\n",
    "print(inverse(A).dot(b))"
   ]
  },
  {
   "cell_type": "code",
   "execution_count": 45,
   "metadata": {},
   "outputs": [
    {
     "data": {
      "text/plain": [
       "[<matplotlib.lines.Line2D at 0x7f7d3e76cc50>]"
      ]
     },
     "execution_count": 45,
     "metadata": {},
     "output_type": "execute_result"
    },
    {
     "data": {
      "image/png": "[encoded data removed]",
      "text/plain": [
       "<matplotlib.figure.Figure at 0x7f7d3e7cd668>"
      ]
     },
     "metadata": {},
     "output_type": "display_data"
    }
   ],
   "source": [
    "f2 = lambda x: 2*x + 16\n",
    "f4 = lambda x: 4*x/5 - 2\n",
    "xs = np.linspace(-20,20,100)\n",
    "y2s = f2(xs)\n",
    "y4s = f4(xs)\n",
    "fig = initialize_2d_plot(-20,5,-20,1)\n",
    "plt.plot(xs, y2s)\n",
    "plt.plot(xs, y4s)\n",
    "plt.plot(-15,-14,'o',c='red', markersize=10)"
   ]
  },
  {
   "cell_type": "code",
   "execution_count": 46,
   "metadata": {},
   "outputs": [
    {
     "name": "stdout",
     "output_type": "stream",
     "text": [
      "[-0.625 -2.5  ]\n"
     ]
    }
   ],
   "source": [
    "A = np.array([(4, 1), (4, -5)])\n",
    "b = np.array((-5, 10))\n",
    "print(inverse(A).dot(b))"
   ]
  },
  {
   "cell_type": "code",
   "execution_count": 47,
   "metadata": {},
   "outputs": [
    {
     "data": {
      "text/plain": [
       "[<matplotlib.lines.Line2D at 0x7f7d3e5b8fd0>]"
      ]
     },
     "execution_count": 47,
     "metadata": {},
     "output_type": "execute_result"
    },
    {
     "data": {
      "image/png": "[encoded data removed]",
      "text/plain": [
       "<matplotlib.figure.Figure at 0x7f7d3e4b4a90>"
      ]
     },
     "metadata": {},
     "output_type": "display_data"
    }
   ],
   "source": [
    "f1 = lambda x: -4*x - 5\n",
    "f4 = lambda x: 4*x/5 - 2\n",
    "xs = np.linspace(-10,10,100)\n",
    "y1s = f1(xs)\n",
    "y4s = f4(xs)\n",
    "fig = initialize_2d_plot(-5,5,-5,5)\n",
    "plt.plot(xs, y1s)\n",
    "plt.plot(xs, y4s)\n",
    "plt.plot(-.625,-2.5,'o',c='red', markersize=10)"
   ]
  },
  {
   "cell_type": "markdown",
   "metadata": {},
   "source": [
    "### Find a function to describe two points"
   ]
  },
  {
   "cell_type": "markdown",
   "metadata": {},
   "source": [
    "Generate two random points."
   ]
  },
  {
   "cell_type": "code",
   "execution_count": 67,
   "metadata": {
    "collapsed": true
   },
   "outputs": [],
   "source": [
    "p1, p2 = np.random.randn(4).reshape(2,2)"
   ]
  },
  {
   "cell_type": "markdown",
   "metadata": {},
   "source": [
    "Plot these two points."
   ]
  },
  {
   "cell_type": "code",
   "execution_count": 68,
   "metadata": {},
   "outputs": [
    {
     "data": {
      "text/plain": [
       "[<matplotlib.lines.Line2D at 0x7f7d3e0bf748>]"
      ]
     },
     "execution_count": 68,
     "metadata": {},
     "output_type": "execute_result"
    },
    {
     "data": {
      "image/png": "[encoded data removed]",
      "text/plain": [
       "<matplotlib.figure.Figure at 0x7f7d3e0bf2e8>"
      ]
     },
     "metadata": {},
     "output_type": "display_data"
    }
   ],
   "source": [
    "fig = initialize_2d_plot(-5,5,-5,5)\n",
    "plt.plot(p1,p2,'o',c='red', markersize=5)"
   ]
  },
  {
   "cell_type": "markdown",
   "metadata": {},
   "source": [
    "Use linear algebra to fit a line to these two points.\n",
    "\n",
    "We know that the equation looks like this\n",
    "\n",
    "$$y_i=\\beta_0+\\beta_1x_i$$\n",
    "\n",
    "Which we can rewrite as \n",
    "\n",
    "$$(1,x_i)^T(\\beta_0, \\beta_1)=y_i$$\n",
    "\n",
    "or\n",
    "\n",
    "$$\\left(\\begin{matrix}1&x_i\\end{matrix}\\right)\\left(\\begin{matrix}\\beta_0\\\\\\beta_1\\end{matrix}\\right)=y_i$$\n",
    "\n",
    "We can use this to make\n",
    "\n",
    "$$X\\beta=\\mathbf{y}$$"
   ]
  },
  {
   "cell_type": "code",
   "execution_count": 80,
   "metadata": {},
   "outputs": [
    {
     "name": "stdout",
     "output_type": "stream",
     "text": [
      "[-0.60011006  0.36270919]\n",
      "[ 0.08830973  0.45760829]\n"
     ]
    }
   ],
   "source": [
    "print(p1)\n",
    "print(p2)"
   ]
  },
  {
   "cell_type": "code",
   "execution_count": 69,
   "metadata": {},
   "outputs": [
    {
     "data": {
      "text/plain": [
       "array([ 0.44543474,  0.13785064])"
      ]
     },
     "execution_count": 69,
     "metadata": {},
     "output_type": "execute_result"
    }
   ],
   "source": [
    "X = np.array([(1, p1[0]), (1, p2[0])])\n",
    "y = np.array((p1[1], p2[1]))\n",
    "beta = inverse(X).dot(y)\n",
    "beta"
   ]
  },
  {
   "cell_type": "markdown",
   "metadata": {},
   "source": [
    "Plot the two points and the line described by the betas you found."
   ]
  },
  {
   "cell_type": "code",
   "execution_count": 70,
   "metadata": {
    "scrolled": true
   },
   "outputs": [
    {
     "data": {
      "text/plain": [
       "[<matplotlib.lines.Line2D at 0x7f7d3dea9f98>]"
      ]
     },
     "execution_count": 70,
     "metadata": {},
     "output_type": "execute_result"
    },
    {
     "data": {
      "image/png": "[encoded data removed]",
      "text/plain": [
       "<matplotlib.figure.Figure at 0x7f7d3df07ac8>"
      ]
     },
     "metadata": {},
     "output_type": "display_data"
    }
   ],
   "source": [
    "xs = np.linspace(-10,10,100)\n",
    "fig = initialize_2d_plot(-5,5,-5,5)\n",
    "plt.plot(p1,p2,'o',c='red', markersize=5)\n",
    "f = lambda x: beta[0] + beta[1]*x\n",
    "plt.plot(xs, f(xs))"
   ]
  },
  {
   "cell_type": "markdown",
   "metadata": {},
   "source": [
    "## Next Level"
   ]
  },
  {
   "cell_type": "markdown",
   "metadata": {},
   "source": [
    "![](https://media.giphy.com/media/qUDenOaWmXImQ/giphy.gif)"
   ]
  },
  {
   "cell_type": "markdown",
   "metadata": {},
   "source": [
    "### Generate some random noisy synthetic data"
   ]
  },
  {
   "cell_type": "code",
   "execution_count": 71,
   "metadata": {
    "collapsed": true
   },
   "outputs": [],
   "source": [
    "beta_0 = 2\n",
    "beta_1 = -3\n",
    "xs = np.linspace(-5,5,100)\n",
    "noise = 3*np.random.randn(100)\n",
    "f = lambda x: beta_0 + beta_1*x\n",
    "ys = f(xs) + noise"
   ]
  },
  {
   "cell_type": "code",
   "execution_count": 79,
   "metadata": {},
   "outputs": [
    {
     "data": {
      "text/plain": [
       "[<matplotlib.lines.Line2D at 0x7f7d3de1f0f0>]"
      ]
     },
     "execution_count": 79,
     "metadata": {},
     "output_type": "execute_result"
    },
    {
     "data": {
      "image/png": "[encoded data removed]",
      "text/plain": [
       "<matplotlib.figure.Figure at 0x7f7d3de1f2e8>"
      ]
     },
     "metadata": {},
     "output_type": "display_data"
    }
   ],
   "source": [
    "plt.scatter(xs, ys)\n",
    "f_reg = lambda x: betas[0] + betas[1]*x\n",
    "plt.plot(xs, f_reg(xs))"
   ]
  },
  {
   "cell_type": "markdown",
   "metadata": {},
   "source": [
    "### Problem set up\n",
    "Create your matrices and vectors so that\n",
    "\n",
    "$$X\\beta=\\mathbf{y}$$\n",
    "\n",
    "Use the matrix form of the [normal equations](normeq)\n",
    "$$\\beta=(X^TX)^{-1}X^T\\mathbf{y}$$\n",
    "\n",
    "[normeq]: https://en.wikipedia.org/wiki/Linear_least_squares_(mathematics)#Inverting_the_matrix_of_the_normal_equations"
   ]
  },
  {
   "cell_type": "markdown",
   "metadata": {},
   "source": [
    "## Find the line of best fit"
   ]
  },
  {
   "cell_type": "code",
   "execution_count": 78,
   "metadata": {},
   "outputs": [
    {
     "name": "stdout",
     "output_type": "stream",
     "text": [
      "[ 1.88167712 -3.14350758]\n"
     ]
    }
   ],
   "source": [
    "X = []\n",
    "y = []\n",
    "for i in range(len(xs)):\n",
    "    X.append([1, xs[i]])\n",
    "    y.append(ys[i])\n",
    "X = np.array(X)\n",
    "y = np.array(y)\n",
    "\n",
    "betas = inverse(X.T.dot(X)).dot(X.T).dot(y)\n",
    "print(betas)"
   ]
  },
  {
   "cell_type": "code",
   "execution_count": null,
   "metadata": {
    "collapsed": true
   },
   "outputs": [],
   "source": []
  }
 ],
 "metadata": {
  "kernelspec": {
   "display_name": "Python 3",
   "language": "python",
   "name": "python3"
  },
  "language_info": {
   "codemirror_mode": {
    "name": "ipython",
    "version": 3
   },
   "file_extension": ".py",
   "mimetype": "text/x-python",
   "name": "python",
   "nbconvert_exporter": "python",
   "pygments_lexer": "ipython3",
   "version": "3.5.2"
  }
 },
 "nbformat": 4,
 "nbformat_minor": 2
}
