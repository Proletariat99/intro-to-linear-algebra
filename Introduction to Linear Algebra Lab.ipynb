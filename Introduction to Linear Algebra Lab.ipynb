{
 "cells": [
  {
   "cell_type": "markdown",
   "metadata": {},
   "source": [
    "# YOU WILL NEED TO IMPORT THE LIBRARIES YOU NEED"
   ]
  },
  {
   "cell_type": "code",
   "execution_count": null,
   "metadata": {
    "collapsed": true
   },
   "outputs": [],
   "source": []
  },
  {
   "cell_type": "markdown",
   "metadata": {},
   "source": [
    "## Pythonic Representation"
   ]
  },
  {
   "cell_type": "markdown",
   "metadata": {},
   "source": [
    "Represent these functions using Python and plot them using `matplotlib.pyplot`.\n",
    "\n",
    "- $y=-4x-5$\n",
    "- $y=2x+16$\n",
    "- $y=x^2-3x+2$\n",
    "- $4x-5y=10$"
   ]
  },
  {
   "cell_type": "code",
   "execution_count": null,
   "metadata": {
    "collapsed": true
   },
   "outputs": [],
   "source": []
  },
  {
   "cell_type": "markdown",
   "metadata": {},
   "source": [
    "## Systems of Equations"
   ]
  },
  {
   "cell_type": "markdown",
   "metadata": {},
   "source": [
    "Plot the solution to these systems of equations:\n",
    "\n",
    "1. \n",
    "   - $y=-4x-5$\n",
    "   - $y=2x+16$\n",
    "2. \n",
    "   - $y=2x+16$\n",
    "   - $4x-5y=10$\n",
    "3. \n",
    "   - $y=-4x-5$\n",
    "   - $4x-5y=10$"
   ]
  },
  {
   "cell_type": "code",
   "execution_count": null,
   "metadata": {
    "collapsed": true
   },
   "outputs": [],
   "source": []
  },
  {
   "cell_type": "markdown",
   "metadata": {},
   "source": [
    "### Linear Algebra Practice"
   ]
  },
  {
   "cell_type": "markdown",
   "metadata": {},
   "source": [
    "### Define the vector `a` to have the values $(1,2)$"
   ]
  },
  {
   "cell_type": "code",
   "execution_count": null,
   "metadata": {
    "collapsed": true
   },
   "outputs": [],
   "source": []
  },
  {
   "cell_type": "markdown",
   "metadata": {},
   "source": [
    "### Define `b` to be the vector $(3,.5)$"
   ]
  },
  {
   "cell_type": "code",
   "execution_count": null,
   "metadata": {
    "collapsed": true
   },
   "outputs": [],
   "source": []
  },
  {
   "cell_type": "markdown",
   "metadata": {},
   "source": [
    "### Find the data type, the shape, the dimension, and the size of `a` via its attributes"
   ]
  },
  {
   "cell_type": "code",
   "execution_count": null,
   "metadata": {
    "collapsed": true
   },
   "outputs": [],
   "source": []
  },
  {
   "cell_type": "markdown",
   "metadata": {},
   "source": [
    "## Define these vectors\n",
    "\n",
    "$$c = (\\pi,e)$$\n",
    "$$d=(-11,1)$$\n",
    "$$e=\\left(\\frac{1}{4},\\frac{7}{9}\\right)$$\n",
    "$$f=(-4,4)$$"
   ]
  },
  {
   "cell_type": "markdown",
   "metadata": {},
   "source": [
    "## `initialize_2d_plot` \n",
    "\n",
    "The file `helper.py` has a function called `initiliaze_2d_plot` that will:\n",
    "- draw axes\n",
    "- specify the limits of the plot\n",
    "\n",
    "The file also has a function called `draw_vector`. It takes a 2d-numpy array, and two optional arguments:\n",
    "\n",
    "- a `tail` so that the vector can begin from a location other than the origin\n",
    "- `kwargs` so that attributes of the line can be specified"
   ]
  },
  {
   "cell_type": "code",
   "execution_count": null,
   "metadata": {
    "collapsed": true
   },
   "outputs": [],
   "source": [
    "from helper import initialize_2d_plot, draw_vector"
   ]
  },
  {
   "cell_type": "markdown",
   "metadata": {},
   "source": [
    "### Run this example"
   ]
  },
  {
   "cell_type": "code",
   "execution_count": null,
   "metadata": {},
   "outputs": [],
   "source": [
    "initialize_2d_plot()\n",
    "draw_vector(b, kwargs={'linewidth': 5, 'color':'red'})\n",
    "draw_vector(a)\n",
    "draw_vector(a, tail=a)\n",
    "draw_vector(a, tail=a+a)"
   ]
  },
  {
   "cell_type": "markdown",
   "metadata": {},
   "source": [
    "### Calculate and draw a vector addition\n",
    "\n",
    "Find the result of the vector addition:\n",
    "\n",
    "$$\\mathbf{d}=\\mathbf{a}+\\mathbf{b}+\\mathbf{a}$$"
   ]
  },
  {
   "cell_type": "code",
   "execution_count": null,
   "metadata": {
    "collapsed": true
   },
   "outputs": [],
   "source": []
  },
  {
   "cell_type": "markdown",
   "metadata": {},
   "source": [
    "1. Plot `d` with a `linewidth` of 5 and a color of `red`.\n",
    "1. Plot `a` with no additional arguments.\n",
    "1. Plot `b` with `tail=a`.\n",
    "1. Plot `a` with `tail=a+b`."
   ]
  },
  {
   "cell_type": "markdown",
   "metadata": {},
   "source": [
    "### Find and plot the results of \n",
    "\n",
    "$$\\mathbf{e}=3\\mathbf{b}$$"
   ]
  },
  {
   "cell_type": "code",
   "execution_count": null,
   "metadata": {
    "collapsed": true
   },
   "outputs": [],
   "source": []
  },
  {
   "cell_type": "markdown",
   "metadata": {},
   "source": [
    "You may need to adjust the `x_max` and `y_max` when you `initialize_2d_plot`, e.g.\n",
    "\n",
    "       initialize_2d_plot(x_max=10, y_max=10)"
   ]
  },
  {
   "cell_type": "code",
   "execution_count": null,
   "metadata": {
    "collapsed": true
   },
   "outputs": [],
   "source": []
  },
  {
   "cell_type": "markdown",
   "metadata": {},
   "source": [
    "### Find the results of and plot this linear combination \n",
    "\n",
    "$$\\mathbf{f}=2\\mathbf{a}+3\\mathbf{b}$$"
   ]
  },
  {
   "cell_type": "code",
   "execution_count": null,
   "metadata": {
    "collapsed": true
   },
   "outputs": [],
   "source": []
  },
  {
   "cell_type": "markdown",
   "metadata": {},
   "source": [
    "### Excuse me, sir ... a linear combination?!?\n",
    "\n",
    "<img width=\"400px\" src=\"https://cdn.arstechnica.net/wp-content/uploads/2014/08/aliens2-hudsonlol.jpg\">"
   ]
  },
  {
   "cell_type": "markdown",
   "metadata": {},
   "source": [
    "Yes, a [linear combination](https://en.wikipedia.org/wiki/Linear_combination).\n",
    "\n",
    "An operation using just scalar multiplication and vector addition.\n",
    "\n",
    "$$\\mathbf{u}=a\\cdot\\mathbf{v}+b\\cdot\\mathbf{w}$$"
   ]
  },
  {
   "cell_type": "markdown",
   "metadata": {},
   "source": [
    "### Use `numpy` to find the dot products below\n",
    "\n",
    "- $\\mathbf{a}^T\\mathbf{b}$\n",
    "- $\\mathbf{b}^T\\mathbf{d}$\n",
    "- $\\mathbf{c}^T\\mathbf{b}$\n",
    "- $\\mathbf{d}^T\\mathbf{b}$\n",
    "- $\\mathbf{e}^T\\mathbf{a}$\n",
    "- $\\mathbf{f}^T\\mathbf{d}$\n",
    "- $\\mathbf{a}^T\\mathbf{c}$\n"
   ]
  },
  {
   "cell_type": "code",
   "execution_count": null,
   "metadata": {
    "collapsed": true
   },
   "outputs": [],
   "source": []
  },
  {
   "cell_type": "markdown",
   "metadata": {},
   "source": [
    "### You can use the dot product to find the magnitude of a vector\n",
    "\n",
    "![](https://media.tenor.com/images/062ae5d02dcb35364b15b35f72fd96eb/tenor.gif)"
   ]
  },
  {
   "cell_type": "markdown",
   "metadata": {},
   "source": [
    "The magnitude of a vector is given by \n",
    "\n",
    "$$\\sqrt{\\mathbf{v}^T\\mathbf{v}}$$"
   ]
  },
  {
   "cell_type": "markdown",
   "metadata": {},
   "source": [
    "Write a function in Python to perform this operation:"
   ]
  },
  {
   "cell_type": "code",
   "execution_count": null,
   "metadata": {
    "collapsed": true
   },
   "outputs": [],
   "source": []
  },
  {
   "cell_type": "markdown",
   "metadata": {},
   "source": [
    "### Find the magnitude of these vectors\n",
    "\n",
    "Using your function.\n",
    "\n",
    "- $\\mathbf{a}$\n",
    "- $\\mathbf{b}$\n",
    "- $\\mathbf{c}$\n",
    "- $\\mathbf{d}$\n",
    "- $\\mathbf{e}$\n",
    "- $\\mathbf{f}$"
   ]
  },
  {
   "cell_type": "code",
   "execution_count": null,
   "metadata": {
    "collapsed": true
   },
   "outputs": [],
   "source": []
  },
  {
   "cell_type": "markdown",
   "metadata": {},
   "source": [
    "### You can use `numpy.linalg.norm` to find the magnitude too"
   ]
  },
  {
   "cell_type": "markdown",
   "metadata": {},
   "source": [
    "### Find the magnitude of these vectors\n",
    "\n",
    "Using your `numpy.linalg.norm`.\n",
    "\n",
    "- $\\mathbf{a}$\n",
    "- $\\mathbf{b}$\n",
    "- $\\mathbf{c}$\n",
    "- $\\mathbf{d}$\n",
    "- $\\mathbf{e}$\n",
    "- $\\mathbf{f}$"
   ]
  },
  {
   "cell_type": "markdown",
   "metadata": {},
   "source": [
    "### Write at least one assert statement to prove that the two methods are equivalent"
   ]
  },
  {
   "cell_type": "code",
   "execution_count": null,
   "metadata": {
    "collapsed": true
   },
   "outputs": [],
   "source": []
  },
  {
   "cell_type": "markdown",
   "metadata": {},
   "source": [
    "## Solving Systems"
   ]
  },
  {
   "cell_type": "markdown",
   "metadata": {},
   "source": [
    "Use linear algebra to find the solution to these systems of equations. Plot the answers that you find along with the systems.\n",
    "\n",
    "1. \n",
    "   - $y=-4x-5$\n",
    "   - $y=2x+16$\n",
    "2. \n",
    "   - $y=2x+16$\n",
    "   - $4x-5y=10$\n",
    "3. \n",
    "   - $y=-4x-5$\n",
    "   - $4x-5y=10$"
   ]
  },
  {
   "cell_type": "code",
   "execution_count": null,
   "metadata": {
    "collapsed": true
   },
   "outputs": [],
   "source": []
  },
  {
   "cell_type": "markdown",
   "metadata": {},
   "source": [
    "### Find a function to describe two points"
   ]
  },
  {
   "cell_type": "markdown",
   "metadata": {},
   "source": [
    "Generate two random points."
   ]
  },
  {
   "cell_type": "code",
   "execution_count": null,
   "metadata": {
    "collapsed": true
   },
   "outputs": [],
   "source": [
    "p1, p2 = np.random.randn(4).reshape(2,2)"
   ]
  },
  {
   "cell_type": "markdown",
   "metadata": {},
   "source": [
    "Plot these two points."
   ]
  },
  {
   "cell_type": "code",
   "execution_count": null,
   "metadata": {
    "collapsed": true
   },
   "outputs": [],
   "source": []
  },
  {
   "cell_type": "markdown",
   "metadata": {},
   "source": [
    "Use linear algebra to fit a line to these two points.\n",
    "\n",
    "We know that the equation looks like this\n",
    "\n",
    "$$y_i=\\beta_0+\\beta_1x_i$$\n",
    "\n",
    "Which we can rewrite as \n",
    "\n",
    "$$(1,x_i)^T(\\beta_0, \\beta_1)=y_i$$\n",
    "\n",
    "or\n",
    "\n",
    "$$\\left(\\begin{matrix}1&x_i\\end{matrix}\\right)\\left(\\begin{matrix}\\beta_0\\\\\\beta_1\\end{matrix}\\right)=y_i$$\n",
    "\n",
    "We can use this to make\n",
    "\n",
    "$$X\\beta=\\mathbf{y}$$"
   ]
  },
  {
   "cell_type": "code",
   "execution_count": null,
   "metadata": {
    "collapsed": true
   },
   "outputs": [],
   "source": []
  },
  {
   "cell_type": "markdown",
   "metadata": {},
   "source": [
    "Plot the two points and the line described by the betas you found."
   ]
  },
  {
   "cell_type": "code",
   "execution_count": null,
   "metadata": {
    "collapsed": true
   },
   "outputs": [],
   "source": []
  },
  {
   "cell_type": "markdown",
   "metadata": {},
   "source": [
    "## Next Level"
   ]
  },
  {
   "cell_type": "markdown",
   "metadata": {},
   "source": [
    "![](https://media.giphy.com/media/qUDenOaWmXImQ/giphy.gif)"
   ]
  },
  {
   "cell_type": "markdown",
   "metadata": {},
   "source": [
    "### Generate some random noisy synthetic data"
   ]
  },
  {
   "cell_type": "code",
   "execution_count": null,
   "metadata": {
    "collapsed": true
   },
   "outputs": [],
   "source": [
    "beta_0 = 2\n",
    "beta_1 = -3\n",
    "xs = np.linspace(-5,5,100)\n",
    "noise = 3*np.random.randn(100)\n",
    "f = lambda x: beta_0 + beta_1*x\n",
    "ys = f(xs) + noise"
   ]
  },
  {
   "cell_type": "code",
   "execution_count": null,
   "metadata": {},
   "outputs": [],
   "source": [
    "plt.scatter(xs, ys)"
   ]
  },
  {
   "cell_type": "markdown",
   "metadata": {},
   "source": [
    "### Problem set up\n",
    "Create your matrices and vectors so that\n",
    "\n",
    "$$X\\beta=\\mathbf{y}$$\n",
    "\n",
    "Use the matrix form of the [normal equations](normeq)\n",
    "$$\\beta=(X^TX)^{-1}X^T\\mathbf{y}$$\n",
    "\n",
    "[normeq]: https://en.wikipedia.org/wiki/Linear_least_squares_(mathematics)#Inverting_the_matrix_of_the_normal_equations"
   ]
  },
  {
   "cell_type": "markdown",
   "metadata": {},
   "source": [
    "## Find the line of best fit"
   ]
  },
  {
   "cell_type": "code",
   "execution_count": null,
   "metadata": {
    "collapsed": true
   },
   "outputs": [],
   "source": []
  }
 ],
 "metadata": {
  "kernelspec": {
   "display_name": "Python 3",
   "language": "python",
   "name": "python3"
  },
  "language_info": {
   "codemirror_mode": {
    "name": "ipython",
    "version": 3
   },
   "file_extension": ".py",
   "mimetype": "text/x-python",
   "name": "python",
   "nbconvert_exporter": "python",
   "pygments_lexer": "ipython3",
   "version": "3.5.2"
  }
 },
 "nbformat": 4,
 "nbformat_minor": 2
}
